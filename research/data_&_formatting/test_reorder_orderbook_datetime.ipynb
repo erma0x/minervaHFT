{
 "cells": [
  {
   "cell_type": "code",
   "execution_count": 1,
   "metadata": {},
   "outputs": [
    {
     "name": "stdout",
     "output_type": "stream",
     "text": [
      "23\n",
      "08\n",
      "09\n",
      "12\n",
      "['/orderbook_2023-02-15_08:01.db', '/orderbook_2023-02-15_09:12.db', '/orderbook_2023-02-15_12:34.db', '/orderbook_2023-02-15_23:56.db']\n"
     ]
    }
   ],
   "source": [
    "import datetime\n",
    "\n",
    "filepaths = [\n",
    "    \"/orderbook_2023-02-15_23:56.db\",\n",
    "    \"/orderbook_2023-02-15_08:01.db\",\n",
    "    \"/orderbook_2023-02-15_09:12.db\",\n",
    "    \"/orderbook_2023-02-15_12:34.db\"\n",
    "]\n",
    "filename = \"orderbook_2023-02-16_08.db\"\n",
    "\n",
    "def get_file_date(filepath):\n",
    "    date_str = filepath.split(\"_\")[1]  \n",
    "    time_str = filepath.split(\"_\")[2].split(\".\")[0][:2]  # \"08\"\n",
    "    print(time_str)\n",
    "    dt = datetime.datetime.strptime(date_str + \" \" + time_str, \"%Y-%m-%d %H\")\n",
    "    return dt\n",
    "\n",
    "sorted_filepaths = sorted(filepaths, key=get_file_date)\n",
    "\n",
    "print(sorted_filepaths)"
   ]
  }
 ],
 "metadata": {
  "kernelspec": {
   "display_name": "Python 3",
   "language": "python",
   "name": "python3"
  },
  "language_info": {
   "codemirror_mode": {
    "name": "ipython",
    "version": 3
   },
   "file_extension": ".py",
   "mimetype": "text/x-python",
   "name": "python",
   "nbconvert_exporter": "python",
   "pygments_lexer": "ipython3",
   "version": "3.10.6"
  },
  "orig_nbformat": 4,
  "vscode": {
   "interpreter": {
    "hash": "916dbcbb3f70747c44a77c7bcd40155683ae19c65e1c03b4aa3499c5328201f1"
   }
  }
 },
 "nbformat": 4,
 "nbformat_minor": 2
}
